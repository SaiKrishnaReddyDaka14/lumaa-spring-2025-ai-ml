{
  "nbformat": 4,
  "nbformat_minor": 0,
  "metadata": {
    "colab": {
      "provenance": [],
      "include_colab_link": true
    },
    "kernelspec": {
      "name": "python3",
      "display_name": "Python 3"
    },
    "language_info": {
      "name": "python"
    }
  },
  "cells": [
    {
      "cell_type": "markdown",
      "metadata": {
        "id": "view-in-github",
        "colab_type": "text"
      },
      "source": [
        "<a href=\"https://colab.research.google.com/github/SaiKrishnaReddyDaka14/lumaa-spring-2025-ai-ml/blob/main/Simple_Content_Based_Recommendation_System.ipynb\" target=\"_parent\"><img src=\"https://colab.research.google.com/assets/colab-badge.svg\" alt=\"Open In Colab\"/></a>"
      ]
    },
    {
      "cell_type": "markdown",
      "source": [
        "**Name:** Sai Krishna Reddy Daka\n",
        "\n",
        "**Role:** Lumaa AI/Machine Learning Intern\n"
      ],
      "metadata": {
        "id": "hZhi1BHT_Udh"
      }
    },
    {
      "cell_type": "code",
      "source": [
        "import pandas as pd\n",
        "from sklearn.feature_extraction.text import TfidfVectorizer\n",
        "from sklearn.metrics.pairwise import cosine_similarity\n"
      ],
      "metadata": {
        "id": "fgoVxEfL_2f_"
      },
      "execution_count": 1,
      "outputs": []
    },
    {
      "cell_type": "code",
      "source": [
        "# Load the dataset\n",
        "file_path = \"imdb_top_250.csv\"\n",
        "\n",
        "# Read the CSV file into a DataFrame\n",
        "df = pd.read_csv(file_path)\n",
        "\n",
        "# Select only the 'Title' and 'Genre' columns from the dataset\n",
        "df = df[['Title', 'Genre']]"
      ],
      "metadata": {
        "id": "RE5JSXlZDFfY"
      },
      "execution_count": 2,
      "outputs": []
    },
    {
      "cell_type": "code",
      "source": [
        "# Get user input for the movie query\n",
        "user_input = input(\"Enter your query (e.g., 'I love thriller movies'):\\n\")\n",
        "\n",
        "# Print the user's input query for verification\n",
        "print(\"\\nUser Input:\", user_input)"
      ],
      "metadata": {
        "colab": {
          "base_uri": "https://localhost:8080/"
        },
        "id": "mF-MRcQH-7Og",
        "outputId": "c3cafa19-2995-4b3f-a6a5-6236660f1d80"
      },
      "execution_count": 3,
      "outputs": [
        {
          "output_type": "stream",
          "name": "stdout",
          "text": [
            "Enter your query (e.g., 'I love thriller movies'):\n",
            "I love thriller movies\n",
            "\n",
            "User Input: I love thriller movies\n"
          ]
        }
      ]
    },
    {
      "cell_type": "code",
      "source": [
        "# Combine the user input (query) and movie genres to form a list of texts for vectorization\n",
        "genre_list = df['Genre'].tolist()\n",
        "\n",
        "# List of movie genres from the Dataframe + user input\n",
        "all_texts = genre_list + [user_input]"
      ],
      "metadata": {
        "id": "ICwFTL32GqdI"
      },
      "execution_count": 4,
      "outputs": []
    },
    {
      "cell_type": "code",
      "source": [
        "# Initialize the TF-IDF vectorizer (to convert text into numerical vectors)\n",
        "vectorizer = TfidfVectorizer()\n",
        "\n",
        "# Convert the list of texts into a matrix of TF-IDF features (numerical representation of text)\n",
        "tfidf_matrix = vectorizer.fit_transform(all_texts)"
      ],
      "metadata": {
        "id": "5FudTyt6G8Ch"
      },
      "execution_count": 5,
      "outputs": []
    },
    {
      "cell_type": "code",
      "source": [
        "# Compute the cosine similarity between the user input and all movie genres\n",
        "similarity_scores = cosine_similarity(tfidf_matrix[-1], tfidf_matrix[:-1])  # Compare user input to each genre\n",
        "\n",
        "# Get the indices of the top 5 most similar movies by sorting the similarity scores\n",
        "top_n = 5  # Number of recommendations to return\n",
        "\n",
        "# Sorts the similarity scores in ascending order, gets the top 5 indices\n",
        "top_indices = similarity_scores[0].argsort()[-top_n:]\n",
        "\n",
        "# Now reverses to get them in descending order of similarity\n",
        "top_indices = top_indices[::-1]"
      ],
      "metadata": {
        "id": "MaRckHJAHQG8"
      },
      "execution_count": 6,
      "outputs": []
    },
    {
      "cell_type": "code",
      "source": [
        "# Retrieve the movies corresponding to the top N indices\n",
        "recommended_movies = df.iloc[top_indices]  # Get rows from the dataset corresponding to top 5 indices\n",
        "\n",
        "# Display the recommended movie titles\n",
        "print(\"\\nRecommended Movies:\")\n",
        "print(recommended_movies[['Title', 'Genre']])"
      ],
      "metadata": {
        "colab": {
          "base_uri": "https://localhost:8080/"
        },
        "id": "xX7f1Z5PIX7Q",
        "outputId": "a5b8eeb5-452a-47b8-d99b-4e245cd1ec5e"
      },
      "execution_count": 7,
      "outputs": [
        {
          "output_type": "stream",
          "name": "stdout",
          "text": [
            "\n",
            "Recommended Movies:\n",
            "                     Title             Genre\n",
            "153           Blade Runner          Thriller\n",
            "212          Amores perros  Drama | Thriller\n",
            "224           Donnie Darko  Drama | Thriller\n",
            "57   Das Leben der Anderen  Drama | Thriller\n",
            "148                   Room  Drama | Thriller\n"
          ]
        }
      ]
    }
  ]
}